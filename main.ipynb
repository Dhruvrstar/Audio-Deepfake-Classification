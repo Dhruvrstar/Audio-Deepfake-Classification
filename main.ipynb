{
  "cells": [
    {
      "cell_type": "code",
      "execution_count": 1,
      "metadata": {
        "id": "sDbNKAWTPaV6"
      },
      "outputs": [
        {
          "name": "stderr",
          "output_type": "stream",
          "text": [
            "/Users/dhruvsanmotra/Library/Python/3.9/lib/python/site-packages/urllib3/__init__.py:35: NotOpenSSLWarning: urllib3 v2 only supports OpenSSL 1.1.1+, currently the 'ssl' module is compiled with 'LibreSSL 2.8.3'. See: https://github.com/urllib3/urllib3/issues/3020\n",
            "  warnings.warn(\n"
          ]
        }
      ],
      "source": [
        "import os\n",
        "import numpy as np\n",
        "import librosa\n",
        "import tensorflow as tf\n",
        "from tensorflow.keras.layers import Input, Conv2D, MaxPooling2D, Flatten, Dense, Dropout\n",
        "from tensorflow.keras.models import Model\n",
        "from tensorflow.keras.utils import to_categorical\n",
        "from tensorflow.keras.models import load_model"
      ]
    },
    {
      "cell_type": "code",
      "execution_count": null,
      "metadata": {
        "id": "bxvClGw3Pc0B"
      },
      "outputs": [],
      "source": [
        "# Define paths and parameters\n",
        "DATASET_PATH = \"Dataset/LA/ASVspoof2019_LA_train/flac\"\n",
        "LABEL_FILE_PATH = \"Dataset/LA/ASVspoof2019_LA_cm_protocols/ASVspoof2019.LA.cm.train.trn.txt\"\n",
        "NUM_CLASSES = 2  # Number of classes (bonafide and spoof)\n",
        "SAMPLE_RATE = 16000  # Sample rate of your audio files\n",
        "DURATION = 5  # Duration of audio clips in seconds\n",
        "N_MELS = 128  # Number of Mel frequency bins"
      ]
    },
    {
      "cell_type": "code",
      "execution_count": 2,
      "metadata": {
        "id": "UyeBVeXLSNQn"
      },
      "outputs": [
        {
          "ename": "FileNotFoundError",
          "evalue": "[Errno 2] No such file or directory: 'LA/ASVspoof2019_LA_cm_protocols/ASVspoof2019.LA.cm.train.trn.txt'",
          "output_type": "error",
          "traceback": [
            "\u001b[0;31m---------------------------------------------------------------------------\u001b[0m",
            "\u001b[0;31mFileNotFoundError\u001b[0m                         Traceback (most recent call last)",
            "Cell \u001b[0;32mIn[2], line 3\u001b[0m\n\u001b[1;32m      1\u001b[0m labels \u001b[38;5;241m=\u001b[39m {}\n\u001b[0;32m----> 3\u001b[0m \u001b[38;5;28;01mwith\u001b[39;00m \u001b[38;5;28;43mopen\u001b[39;49m\u001b[43m(\u001b[49m\u001b[43mLABEL_FILE_PATH\u001b[49m\u001b[43m,\u001b[49m\u001b[43m \u001b[49m\u001b[38;5;124;43m'\u001b[39;49m\u001b[38;5;124;43mr\u001b[39;49m\u001b[38;5;124;43m'\u001b[39;49m\u001b[43m)\u001b[49m \u001b[38;5;28;01mas\u001b[39;00m label_file:\n\u001b[1;32m      4\u001b[0m     lines \u001b[38;5;241m=\u001b[39m label_file\u001b[38;5;241m.\u001b[39mreadlines()\n\u001b[1;32m      6\u001b[0m \u001b[38;5;28;01mfor\u001b[39;00m line \u001b[38;5;129;01min\u001b[39;00m lines:\n",
            "File \u001b[0;32m~/Library/Python/3.9/lib/python/site-packages/IPython/core/interactiveshell.py:310\u001b[0m, in \u001b[0;36m_modified_open\u001b[0;34m(file, *args, **kwargs)\u001b[0m\n\u001b[1;32m    303\u001b[0m \u001b[38;5;28;01mif\u001b[39;00m file \u001b[38;5;129;01min\u001b[39;00m {\u001b[38;5;241m0\u001b[39m, \u001b[38;5;241m1\u001b[39m, \u001b[38;5;241m2\u001b[39m}:\n\u001b[1;32m    304\u001b[0m     \u001b[38;5;28;01mraise\u001b[39;00m \u001b[38;5;167;01mValueError\u001b[39;00m(\n\u001b[1;32m    305\u001b[0m         \u001b[38;5;124mf\u001b[39m\u001b[38;5;124m\"\u001b[39m\u001b[38;5;124mIPython won\u001b[39m\u001b[38;5;124m'\u001b[39m\u001b[38;5;124mt let you open fd=\u001b[39m\u001b[38;5;132;01m{\u001b[39;00mfile\u001b[38;5;132;01m}\u001b[39;00m\u001b[38;5;124m by default \u001b[39m\u001b[38;5;124m\"\u001b[39m\n\u001b[1;32m    306\u001b[0m         \u001b[38;5;124m\"\u001b[39m\u001b[38;5;124mas it is likely to crash IPython. If you know what you are doing, \u001b[39m\u001b[38;5;124m\"\u001b[39m\n\u001b[1;32m    307\u001b[0m         \u001b[38;5;124m\"\u001b[39m\u001b[38;5;124myou can use builtins\u001b[39m\u001b[38;5;124m'\u001b[39m\u001b[38;5;124m open.\u001b[39m\u001b[38;5;124m\"\u001b[39m\n\u001b[1;32m    308\u001b[0m     )\n\u001b[0;32m--> 310\u001b[0m \u001b[38;5;28;01mreturn\u001b[39;00m \u001b[43mio_open\u001b[49m\u001b[43m(\u001b[49m\u001b[43mfile\u001b[49m\u001b[43m,\u001b[49m\u001b[43m \u001b[49m\u001b[38;5;241;43m*\u001b[39;49m\u001b[43margs\u001b[49m\u001b[43m,\u001b[49m\u001b[43m \u001b[49m\u001b[38;5;241;43m*\u001b[39;49m\u001b[38;5;241;43m*\u001b[39;49m\u001b[43mkwargs\u001b[49m\u001b[43m)\u001b[49m\n",
            "\u001b[0;31mFileNotFoundError\u001b[0m: [Errno 2] No such file or directory: 'LA/ASVspoof2019_LA_cm_protocols/ASVspoof2019.LA.cm.train.trn.txt'"
          ]
        }
      ],
      "source": [
        "labels = {}\n",
        "\n",
        "with open(LABEL_FILE_PATH, 'r') as label_file:\n",
        "    lines = label_file.readlines()\n",
        "\n",
        "for line in lines:\n",
        "    parts = line.strip().split()\n",
        "    file_name = parts[1]\n",
        "    label = 1 if parts[-1] == \"bonafide\" else 0\n",
        "    labels[file_name] = label\n",
        "\n",
        "X = []\n",
        "y = []\n",
        "\n",
        "max_time_steps = 109  # Define the maximum time steps for your model\n",
        "\n",
        "for file_name, label in labels.items():\n",
        "    file_path = os.path.join(DATASET_PATH, file_name + \".flac\")\n",
        "\n",
        "    # Load audio file using librosa\n",
        "    audio, _ = librosa.load(file_path, sr=SAMPLE_RATE, duration=DURATION)\n",
        "\n",
        "    # Extract Mel spectrogram using librosa\n",
        "    mel_spectrogram = librosa.feature.melspectrogram(y=audio, sr=SAMPLE_RATE, n_mels=N_MELS)\n",
        "    mel_spectrogram = librosa.power_to_db(mel_spectrogram, ref=np.max)\n",
        "\n",
        "    # Ensure all spectrograms have the same width (time steps)\n",
        "    if mel_spectrogram.shape[1] < max_time_steps:\n",
        "        mel_spectrogram = np.pad(mel_spectrogram, ((0, 0), (0, max_time_steps - mel_spectrogram.shape[1])), mode='constant')\n",
        "    else:\n",
        "        mel_spectrogram = mel_spectrogram[:, :max_time_steps]\n",
        "\n",
        "    X.append(mel_spectrogram)\n",
        "    y.append(label)"
      ]
    },
    {
      "cell_type": "code",
      "execution_count": null,
      "metadata": {
        "id": "kRaT9u43SWwZ"
      },
      "outputs": [],
      "source": [
        "X = np.array(X)\n",
        "y = np.array(y)\n",
        "\n",
        "X,y"
      ]
    },
    {
      "cell_type": "code",
      "execution_count": null,
      "metadata": {
        "id": "hiuB3-tKYtaY"
      },
      "outputs": [],
      "source": [
        "y_encoded = to_categorical(y, NUM_CLASSES)"
      ]
    },
    {
      "cell_type": "code",
      "execution_count": null,
      "metadata": {
        "id": "Qpd51oPQYzVX"
      },
      "outputs": [],
      "source": [
        "split_index = int(0.8 * len(X))\n",
        "X_train, X_val = X[:split_index], X[split_index:]\n",
        "y_train, y_val = y_encoded[:split_index], y_encoded[split_index:]"
      ]
    },
    {
      "cell_type": "code",
      "execution_count": null,
      "metadata": {
        "id": "GFWARwGbY1pX"
      },
      "outputs": [],
      "source": [
        "# Define CNN model architecture\n",
        "input_shape = (N_MELS, X_train.shape[2], 1)  # Input shape for CNN (height, width, channels)\n",
        "model_input = Input(shape=input_shape)"
      ]
    },
    {
      "cell_type": "code",
      "execution_count": null,
      "metadata": {
        "id": "oWcZ9HdlY4EJ"
      },
      "outputs": [],
      "source": [
        "x = Conv2D(32, kernel_size=(3, 3), activation='relu')(model_input)\n",
        "x = MaxPooling2D(pool_size=(2, 2))(x)\n",
        "x = Conv2D(64, kernel_size=(3, 3), activation='relu')(x)\n",
        "x = MaxPooling2D(pool_size=(2, 2))(x)\n",
        "x = Flatten()(x)\n",
        "x = Dense(128, activation='relu')(x)\n",
        "x = Dropout(0.5)(x)\n",
        "model_output = Dense(NUM_CLASSES, activation='softmax')(x)"
      ]
    },
    {
      "cell_type": "code",
      "execution_count": null,
      "metadata": {
        "id": "Oi5J0oiGY6yw"
      },
      "outputs": [],
      "source": [
        "model = Model(inputs=model_input, outputs=model_output)"
      ]
    },
    {
      "cell_type": "code",
      "execution_count": null,
      "metadata": {
        "id": "iTo-iOaYY9Ns"
      },
      "outputs": [],
      "source": [
        "model.compile(optimizer='adam', loss='categorical_crossentropy', metrics=['accuracy'])"
      ]
    },
    {
      "cell_type": "code",
      "execution_count": null,
      "metadata": {
        "colab": {
          "base_uri": "https://localhost:8080/"
        },
        "id": "3Cw81pgfY_kc",
        "outputId": "4f47d238-fa77-46f1-c7e0-b1bfb27da228"
      },
      "outputs": [
        {
          "name": "stdout",
          "output_type": "stream",
          "text": [
            "Epoch 1/10\n",
            "635/635 [==============================] - 125s 194ms/step - loss: 0.8655 - accuracy: 0.8898 - val_loss: 0.6782 - val_accuracy: 0.5757\n",
            "Epoch 2/10\n",
            "635/635 [==============================] - 127s 199ms/step - loss: 0.1696 - accuracy: 0.9287 - val_loss: 1.2812 - val_accuracy: 0.2926\n",
            "Epoch 3/10\n",
            "635/635 [==============================] - 127s 199ms/step - loss: 0.1261 - accuracy: 0.9503 - val_loss: 1.3782 - val_accuracy: 0.3820\n",
            "Epoch 4/10\n",
            "635/635 [==============================] - 129s 203ms/step - loss: 0.0902 - accuracy: 0.9663 - val_loss: 3.0074 - val_accuracy: 0.2179\n",
            "Epoch 5/10\n",
            "635/635 [==============================] - 118s 186ms/step - loss: 0.0537 - accuracy: 0.9809 - val_loss: 2.4005 - val_accuracy: 0.2374\n",
            "Epoch 6/10\n",
            "635/635 [==============================] - 125s 197ms/step - loss: 0.0393 - accuracy: 0.9877 - val_loss: 5.1723 - val_accuracy: 0.2266\n",
            "Epoch 7/10\n",
            "635/635 [==============================] - 127s 199ms/step - loss: 0.0264 - accuracy: 0.9911 - val_loss: 5.7586 - val_accuracy: 0.2573\n",
            "Epoch 8/10\n",
            "635/635 [==============================] - 106s 167ms/step - loss: 0.0893 - accuracy: 0.9678 - val_loss: 6.3777 - val_accuracy: 0.2841\n",
            "Epoch 9/10\n",
            "635/635 [==============================] - 101s 159ms/step - loss: 0.0281 - accuracy: 0.9915 - val_loss: 7.9073 - val_accuracy: 0.1874\n",
            "Epoch 10/10\n",
            "635/635 [==============================] - 174s 275ms/step - loss: 0.0263 - accuracy: 0.9913 - val_loss: 8.0507 - val_accuracy: 0.2047\n"
          ]
        },
        {
          "data": {
            "text/plain": [
              "<keras.src.callbacks.History at 0x7f7adee35750>"
            ]
          },
          "execution_count": 15,
          "metadata": {},
          "output_type": "execute_result"
        }
      ],
      "source": [
        "# Train the Model\n",
        "model.fit(X_train, y_train, batch_size=32, epochs=10, validation_data=(X_val, y_val))"
      ]
    },
    {
      "cell_type": "code",
      "execution_count": 10,
      "metadata": {
        "id": "wovU4AJmZsjg"
      },
      "outputs": [
        {
          "ename": "NameError",
          "evalue": "name 'model' is not defined",
          "output_type": "error",
          "traceback": [
            "\u001b[0;31m---------------------------------------------------------------------------\u001b[0m",
            "\u001b[0;31mNameError\u001b[0m                                 Traceback (most recent call last)",
            "Cell \u001b[0;32mIn[10], line 2\u001b[0m\n\u001b[1;32m      1\u001b[0m \u001b[38;5;66;03m# saving the model\u001b[39;00m\n\u001b[0;32m----> 2\u001b[0m \u001b[43mmodel\u001b[49m\u001b[38;5;241m.\u001b[39msave(\u001b[38;5;124m\"\u001b[39m\u001b[38;5;124maudio_classifier.h5\u001b[39m\u001b[38;5;124m\"\u001b[39m)\n",
            "\u001b[0;31mNameError\u001b[0m: name 'model' is not defined"
          ]
        }
      ],
      "source": [
        "# saving the model\n",
        "model.save(\"audio_classifier.h5\")"
      ]
    },
    {
      "cell_type": "markdown",
      "metadata": {},
      "source": [
        "LOADING THE MODEL"
      ]
    },
    {
      "cell_type": "code",
      "execution_count": 2,
      "metadata": {},
      "outputs": [
        {
          "name": "stderr",
          "output_type": "stream",
          "text": [
            "/Users/dhruvsanmotra/Library/Python/3.9/lib/python/site-packages/urllib3/__init__.py:35: NotOpenSSLWarning: urllib3 v2 only supports OpenSSL 1.1.1+, currently the 'ssl' module is compiled with 'LibreSSL 2.8.3'. See: https://github.com/urllib3/urllib3/issues/3020\n",
            "  warnings.warn(\n"
          ]
        }
      ],
      "source": [
        "import os\n",
        "import numpy as np\n",
        "import librosa\n",
        "import tensorflow as tf\n",
        "from tensorflow.keras.layers import Input, Conv2D, MaxPooling2D, Flatten, Dense, Dropout\n",
        "from tensorflow.keras.models import Model\n",
        "from tensorflow.keras.utils import to_categorical\n",
        "from tensorflow.keras.models import load_model"
      ]
    },
    {
      "cell_type": "code",
      "execution_count": 3,
      "metadata": {
        "id": "ds0qYDyVRpV1"
      },
      "outputs": [],
      "source": [
        "# Define paths and parameters\n",
        "TEST_DATASET_PATH = \"./TestEvaluation\"\n",
        "MODEL_PATH = \"audio_classifier.h5\"  # Replace with the actual path to your saved model\n",
        "SAMPLE_RATE = 16000\n",
        "DURATION = 5\n",
        "N_MELS = 128\n",
        "MAX_TIME_STEPS = 109"
      ]
    },
    {
      "cell_type": "code",
      "execution_count": 4,
      "metadata": {
        "id": "gSJ-2NRuRpV1"
      },
      "outputs": [
        {
          "name": "stderr",
          "output_type": "stream",
          "text": [
            "2025-05-19 23:15:43.362896: I metal_plugin/src/device/metal_device.cc:1154] Metal device set to: Apple M2\n",
            "2025-05-19 23:15:43.363188: I metal_plugin/src/device/metal_device.cc:296] systemMemory: 8.00 GB\n",
            "2025-05-19 23:15:43.363193: I metal_plugin/src/device/metal_device.cc:313] maxCacheSize: 2.67 GB\n",
            "2025-05-19 23:15:43.363892: I tensorflow/core/common_runtime/pluggable_device/pluggable_device_factory.cc:305] Could not identify NUMA node of platform GPU ID 0, defaulting to 0. Your kernel may not have been built with NUMA support.\n",
            "2025-05-19 23:15:43.364376: I tensorflow/core/common_runtime/pluggable_device/pluggable_device_factory.cc:271] Created TensorFlow device (/job:localhost/replica:0/task:0/device:GPU:0 with 0 MB memory) -> physical PluggableDevice (device: 0, name: METAL, pci bus id: <undefined>)\n",
            "WARNING:absl:Compiled the loaded model, but the compiled metrics have yet to be built. `model.compile_metrics` will be empty until you train or evaluate the model.\n",
            "WARNING:absl:Error in loading the saved optimizer state. As a result, your model is starting with a freshly initialized optimizer.\n"
          ]
        }
      ],
      "source": [
        "\n",
        "from tensorflow.keras.models import load_model\n",
        "\n",
        "# Load the saved model\n",
        "model = load_model(MODEL_PATH)"
      ]
    },
    {
      "cell_type": "code",
      "execution_count": 5,
      "metadata": {},
      "outputs": [
        {
          "name": "stdout",
          "output_type": "stream",
          "text": [
            "Processing directory: TestEvaluation\n",
            "--------------------------------------------------\n"
          ]
        },
        {
          "name": "stderr",
          "output_type": "stream",
          "text": [
            "2025-05-19 23:15:59.229834: I tensorflow/core/grappler/optimizers/custom_graph_optimizer_registry.cc:117] Plugin optimizer for device_type GPU is enabled.\n"
          ]
        },
        {
          "name": "stdout",
          "output_type": "stream",
          "text": [
            "File: TestEvaluation/LA_E_5169845.flac\n",
            "Prediction: bonafide (confidence: 100.00%)\n",
            "--------------------------------------------------\n",
            "File: TestEvaluation/LA_E_2601971.flac\n",
            "Prediction: bonafide (confidence: 100.00%)\n",
            "--------------------------------------------------\n",
            "File: TestEvaluation/LA_E_9521934.flac\n",
            "Prediction: spoof (confidence: 100.00%)\n",
            "--------------------------------------------------\n",
            "File: TestEvaluation/LA_E_1007069.flac\n",
            "Prediction: spoof (confidence: 100.00%)\n",
            "--------------------------------------------------\n",
            "File: TestEvaluation/LA_E_4453325.flac\n",
            "Prediction: bonafide (confidence: 100.00%)\n",
            "--------------------------------------------------\n",
            "File: TestEvaluation/LA_E_4065507.flac\n",
            "Prediction: spoof (confidence: 100.00%)\n",
            "--------------------------------------------------\n",
            "File: TestEvaluation/LA_E_1000147.flac\n",
            "Prediction: bonafide (confidence: 100.00%)\n",
            "--------------------------------------------------\n",
            "File: TestEvaluation/LA_E_4785445.flac\n",
            "Prediction: bonafide (confidence: 100.00%)\n",
            "--------------------------------------------------\n",
            "File: TestEvaluation/LA_E_1644479.flac\n",
            "Prediction: bonafide (confidence: 100.00%)\n",
            "--------------------------------------------------\n",
            "File: TestEvaluation/LA_E_2267312.flac\n",
            "Prediction: bonafide (confidence: 100.00%)\n",
            "--------------------------------------------------\n"
          ]
        }
      ],
      "source": [
        "\n",
        "import os\n",
        "import numpy as np\n",
        "import librosa\n",
        "\n",
        "def predict_audio(file_path):\n",
        "    \"\"\"\n",
        "    Predict whether an audio file is bonafide or spoof.\n",
        "    \n",
        "    Args:\n",
        "        file_path (str): Path to the audio file\n",
        "        \n",
        "    Returns:\n",
        "        numpy.ndarray: Prediction probabilities for each class\n",
        "    \"\"\"\n",
        "    # Load and preprocess the audio file\n",
        "    audio, _ = librosa.load(file_path, sr=SAMPLE_RATE, duration=DURATION)\n",
        "    \n",
        "    # Extract Mel spectrogram\n",
        "    mel_spectrogram = librosa.feature.melspectrogram(y=audio, sr=SAMPLE_RATE, n_mels=N_MELS)\n",
        "    mel_spectrogram = librosa.power_to_db(mel_spectrogram, ref=np.max)\n",
        "    \n",
        "    # Pad or truncate to match the required time steps\n",
        "    if mel_spectrogram.shape[1] < MAX_TIME_STEPS:\n",
        "        mel_spectrogram = np.pad(mel_spectrogram, ((0, 0), (0, MAX_TIME_STEPS - mel_spectrogram.shape[1])), mode='constant')\n",
        "    else:\n",
        "        mel_spectrogram = mel_spectrogram[:, :MAX_TIME_STEPS]\n",
        "    \n",
        "    # Reshape for model input\n",
        "    mel_spectrogram = mel_spectrogram.reshape(1, N_MELS, MAX_TIME_STEPS, 1)\n",
        "    \n",
        "    # Get prediction\n",
        "    prediction = model.predict(mel_spectrogram, verbose=0)\n",
        "    return prediction[0]\n",
        "\n",
        "\n",
        "\n",
        "def process_directory(directory_path):\n",
        "    \"\"\"\n",
        "    Recursively processes all audio files in a directory and its subdirectories.\n",
        "    \n",
        "    Args:\n",
        "        directory_path (str): Path to directory containing audio files\n",
        "    \"\"\"\n",
        "    print(f\"Processing directory: {directory_path}\")\n",
        "    print(\"-\" * 50)\n",
        "    \n",
        "    # List of common audio file extensions to process\n",
        "    audio_extensions = ['.flac', '.wav', '.mp3', '.opus', '.ogg', '.m4a', '.aac']\n",
        "    \n",
        "    # Walk through directory and all subdirectories\n",
        "    for root, dirs, files in os.walk(directory_path):\n",
        "        for file in files:\n",
        "            # Check if file has audio extension\n",
        "            if any(file.lower().endswith(ext) for ext in audio_extensions):\n",
        "                file_path = os.path.join(root, file)\n",
        "                try:\n",
        "                    prob = predict_audio(file_path)\n",
        "                    predicted_class = \"bonafide\" if np.argmax(prob) == 1 else \"spoof\"\n",
        "                    confidence = max(prob)\n",
        "                    print(f\"File: {file_path}\")\n",
        "                    print(f\"Prediction: {predicted_class} (confidence: {confidence:.2%})\")\n",
        "                    print(\"-\" * 50)\n",
        "                except Exception as e:\n",
        "                    print(f\"Error processing {file_path}: {str(e)}\")\n",
        "\n",
        "# Example usage\n",
        "test_directories = [\n",
        "    \"TestEvaluation\"\n",
        "]\n",
        "\n",
        "# Process each directory\n",
        "for directory in test_directories:\n",
        "    if os.path.isdir(directory):\n",
        "        process_directory(directory)\n",
        "    else:\n",
        "        print(f\"Error: {directory} is not a valid directory\")"
      ]
    }
  ],
  "metadata": {
    "accelerator": "TPU",
    "colab": {
      "provenance": []
    },
    "kernelspec": {
      "display_name": "Python 3",
      "name": "python3"
    },
    "language_info": {
      "codemirror_mode": {
        "name": "ipython",
        "version": 3
      },
      "file_extension": ".py",
      "mimetype": "text/x-python",
      "name": "python",
      "nbconvert_exporter": "python",
      "pygments_lexer": "ipython3",
      "version": "3.9.6"
    }
  },
  "nbformat": 4,
  "nbformat_minor": 0
}
